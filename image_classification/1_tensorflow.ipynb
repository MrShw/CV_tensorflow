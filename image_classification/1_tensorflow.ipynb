{
 "cells": [
  {
   "cell_type": "code",
   "execution_count": 6,
   "metadata": {},
   "outputs": [
    {
     "data": {
      "text/plain": [
       "tensorflow.python.framework.ops.EagerTensor"
      ]
     },
     "execution_count": 6,
     "metadata": {},
     "output_type": "execute_result"
    }
   ],
   "source": [
    "import tensorflow as tf\n",
    "import numpy as np\n",
    "\n",
    "var = tf.Variable([[1,2],[3,4]])\n",
    "\n",
    "tf.constant(3)  # 创建0维张量\n",
    "tf.constant([1.0,2.0,3.0])  # 创建1维张量\n",
    "tf.constant([[1, 2], [3, 4], [5, 6]], dtype=tf.float16)   # 创建2维张量\n",
    "\n",
    "\n",
    "tensor1 = tf.constant([1,2,3,4,5])\n",
    "type(tensor1)"
   ]
  },
  {
   "cell_type": "code",
   "execution_count": 7,
   "metadata": {},
   "outputs": [
    {
     "data": {
      "text/plain": [
       "numpy.ndarray"
      ]
     },
     "execution_count": 7,
     "metadata": {},
     "output_type": "execute_result"
    }
   ],
   "source": [
    "tensor1 = np.array(tensor1)\n",
    "type(tensor1)"
   ]
  },
  {
   "cell_type": "code",
   "execution_count": 9,
   "metadata": {},
   "outputs": [
    {
     "data": {
      "text/plain": [
       "<tf.Tensor: shape=(), dtype=int32, numpy=2>"
      ]
     },
     "execution_count": 9,
     "metadata": {},
     "output_type": "execute_result"
    }
   ],
   "source": [
    "a = tf.constant([[1, 2], [3, 4]])\n",
    "b = tf.constant([[5, 6], [7, 8]])\n",
    "\n",
    "tf.add(a,b)\n",
    "# [[1 * 5, 2 * 6],\n",
    "# [3 * 7, 4 * 8]] \n",
    "# = [[5, 12], [21, 32]]\n",
    "tf.multiply(a,b)    # 元素相乘\n",
    "# [[1 * 5 + 2 * 7, 1 * 6 + 2 * 8],\n",
    "# [3 * 5 + 4 * 7, 3 * 6 + 4 * 8]] \n",
    "# = [[19, 22], [43, 50]]\n",
    "tf.matmul(a,b)  # 矩阵乘法\n",
    "tf.reduce_max(a)    \n",
    "tf.argmax(a)\n",
    "tf.reduce_mean(a)"
   ]
  },
  {
   "cell_type": "code",
   "execution_count": null,
   "metadata": {},
   "outputs": [],
   "source": []
  }
 ],
 "metadata": {
  "kernelspec": {
   "display_name": "ml",
   "language": "python",
   "name": "python3"
  },
  "language_info": {
   "codemirror_mode": {
    "name": "ipython",
    "version": 3
   },
   "file_extension": ".py",
   "mimetype": "text/x-python",
   "name": "python",
   "nbconvert_exporter": "python",
   "pygments_lexer": "ipython3",
   "version": "3.9.16"
  },
  "orig_nbformat": 4
 },
 "nbformat": 4,
 "nbformat_minor": 2
}
