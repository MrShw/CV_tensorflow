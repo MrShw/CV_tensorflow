{
 "cells": [
  {
   "cell_type": "code",
   "execution_count": 1,
   "metadata": {},
   "outputs": [],
   "source": [
    "import tensorflow as tf\n",
    "import numpy as np\n",
    "from keras.datasets import mnist"
   ]
  },
  {
   "cell_type": "code",
   "execution_count": 2,
   "metadata": {},
   "outputs": [],
   "source": [
    "# 获取手写数字数据集\n",
    "(train_images, train_labels), (test_images, test_labels) = mnist.load_data()\n",
    "# 训练集数据维度的调整：N H W C\n",
    "train_images = np.reshape(train_images,(train_images.shape[0],train_images.shape[1],train_images.shape[2],1))\n",
    "# 测试集数据维度的调整：N H W C\n",
    "test_images = np.reshape(test_images,(test_images.shape[0],test_images.shape[1],test_images.shape[2],1))"
   ]
  },
  {
   "cell_type": "code",
   "execution_count": 3,
   "metadata": {},
   "outputs": [],
   "source": [
    "def get_train(size):\n",
    "    index = np.random.randint(0, np.shape(train_images)[0], size)\n",
    "    resized_images = tf.image.resize_with_pad(train_images[index],224,224,)\n",
    "    \n",
    "    return resized_images.numpy(), train_labels[index]\n",
    "\n",
    "def get_test(size):\n",
    "    index = np.random.randint(0, np.shape(test_images)[0], size)\n",
    "    resized_images = tf.image.resize_with_pad(test_images[index],224,224,)\n",
    "\n",
    "    return resized_images.numpy(), test_labels[index]\n",
    "\n",
    "train_images,train_labels = get_train(256)\n",
    "test_images,test_labels = get_test(128)"
   ]
  },
  {
   "cell_type": "code",
   "execution_count": 4,
   "metadata": {},
   "outputs": [],
   "source": [
    "def vgg_block(num_conv,num_filters):\n",
    "    # 序列模型\n",
    "    blk = tf.keras.models.Sequential()\n",
    "    # 遍历卷积层\n",
    "    for _ in range(num_conv):\n",
    "        # 设置卷积层\n",
    "        blk.add(tf.keras.layers.Conv2D(num_filters,kernel_size=3,padding='same',activation=\"relu\"))\n",
    "    # 池化层\n",
    "    blk.add(tf.keras.layers.MaxPool2D(pool_size=2,strides=2))\n",
    "    return blk"
   ]
  },
  {
   "cell_type": "code",
   "execution_count": 5,
   "metadata": {},
   "outputs": [],
   "source": [
    "def vgg(conv_arch):\n",
    "    # 序列模型\n",
    "    net = tf.keras.models.Sequential()\n",
    "    # 生成卷积部分\n",
    "    for (num_convs,num_filters) in conv_arch:\n",
    "        net.add(vgg_block(num_convs,num_filters))\n",
    "    # 全连接层\n",
    "    net.add(tf.keras.models.Sequential([\n",
    "        # 展评\n",
    "        tf.keras.layers.Flatten(),\n",
    "        # 全连接层\n",
    "        tf.keras.layers.Dense(4096,activation=\"relu\"),\n",
    "        # 随机失活\n",
    "        tf.keras.layers.Dropout(0.5),\n",
    "        # 全连接层\n",
    "        tf.keras.layers.Dense(4096,activation=\"relu\"),\n",
    "        # 随机失活\n",
    "        tf.keras.layers.Dropout(0.5),\n",
    "        # 输出层\n",
    "        tf.keras.layers.Dense(10,activation=\"softmax\")\n",
    "    ]))\n",
    "    return net"
   ]
  },
  {
   "cell_type": "code",
   "execution_count": 6,
   "metadata": {},
   "outputs": [
    {
     "data": {
      "image/png": "[encoded data removed]",
      "text/plain": [
       "<IPython.core.display.Image object>"
      ]
     },
     "execution_count": 6,
     "metadata": {},
     "output_type": "execute_result"
    }
   ],
   "source": [
    "# 卷积块的参数\n",
    "conv_arch = ((2,64),(2,128),(3,256),(3,512),(3,512))\n",
    "net = vgg(conv_arch)\n",
    "\n",
    "X = tf.random.uniform((1,224,224,1))\n",
    "y = net(X)\n",
    "tf.keras.utils.plot_model(net)"
   ]
  },
  {
   "cell_type": "code",
   "execution_count": 7,
   "metadata": {},
   "outputs": [
    {
     "name": "stdout",
     "output_type": "stream",
     "text": [
      "Epoch 1/3\n"
     ]
    },
    {
     "name": "stderr",
     "output_type": "stream",
     "text": [
      "2023-04-11 20:17:39.239519: W tensorflow/tsl/platform/profile_utils/cpu_utils.cc:128] Failed to get CPU frequency: 0 Hz\n"
     ]
    },
    {
     "name": "stdout",
     "output_type": "stream",
     "text": [
      "2/2 [==============================] - 61s 27s/step - loss: 2.3307 - accuracy: 0.1130 - val_loss: 2.3012 - val_accuracy: 0.0769\n",
      "Epoch 2/3\n",
      "2/2 [==============================] - 57s 26s/step - loss: 2.2607 - accuracy: 0.1783 - val_loss: 2.2961 - val_accuracy: 0.0385\n",
      "Epoch 3/3\n",
      "2/2 [==============================] - 56s 26s/step - loss: 2.2354 - accuracy: 0.1652 - val_loss: 2.2754 - val_accuracy: 0.2692\n"
     ]
    },
    {
     "data": {
      "text/plain": [
       "<keras.callbacks.History at 0x17e5f0dc0>"
      ]
     },
     "execution_count": 7,
     "metadata": {},
     "output_type": "execute_result"
    }
   ],
   "source": [
    "# 指定优化器，损失函数和评价指标\n",
    "optimizer = tf.keras.optimizers.SGD(learning_rate=0.01, momentum=0.0)\n",
    "\n",
    "net.compile(optimizer=optimizer, loss='sparse_categorical_crossentropy', metrics=['accuracy'])\n",
    "net.fit(train_images,train_labels,batch_size=128,epochs=3,verbose=1,validation_split=0.1)\n"
   ]
  },
  {
   "cell_type": "code",
   "execution_count": 8,
   "metadata": {},
   "outputs": [
    {
     "name": "stdout",
     "output_type": "stream",
     "text": [
      "4/4 [==============================] - 8s 2s/step - loss: 2.1632 - accuracy: 0.3984\n",
      "损失值 2.16321063041687\n",
      "准确率 0.3984375\n"
     ]
    }
   ],
   "source": [
    "loss,accuracy = net.evaluate(test_images,test_labels,verbose=1)\n",
    "print(\"损失值\",loss)\n",
    "print(\"准确率\", accuracy)"
   ]
  }
 ],
 "metadata": {
  "kernelspec": {
   "display_name": "ml",
   "language": "python",
   "name": "python3"
  },
  "language_info": {
   "codemirror_mode": {
    "name": "ipython",
    "version": 3
   },
   "file_extension": ".py",
   "mimetype": "text/x-python",
   "name": "python",
   "nbconvert_exporter": "python",
   "pygments_lexer": "ipython3",
   "version": "3.9.16"
  },
  "orig_nbformat": 4
 },
 "nbformat": 4,
 "nbformat_minor": 2
}
